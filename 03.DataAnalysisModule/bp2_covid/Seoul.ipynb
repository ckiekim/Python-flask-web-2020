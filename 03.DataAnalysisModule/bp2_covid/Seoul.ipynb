{
 "metadata": {
  "language_info": {
   "codemirror_mode": {
    "name": "ipython",
    "version": 3
   },
   "file_extension": ".py",
   "mimetype": "text/x-python",
   "name": "python",
   "nbconvert_exporter": "python",
   "pygments_lexer": "ipython3",
   "version": "3.8.3-final"
  },
  "orig_nbformat": 2,
  "kernelspec": {
   "name": "python3",
   "display_name": "Python 3",
   "language": "python"
  }
 },
 "nbformat": 4,
 "nbformat_minor": 2,
 "cells": [
  {
   "source": [
    "# 서울시 코로나19 확진자 현황 API"
   ],
   "cell_type": "markdown",
   "metadata": {}
  },
  {
   "cell_type": "code",
   "execution_count": 1,
   "metadata": {},
   "outputs": [],
   "source": [
    "import requests\n",
    "import pandas as pd\n",
    "from bs4 import BeautifulSoup"
   ]
  },
  {
   "cell_type": "code",
   "execution_count": 16,
   "metadata": {},
   "outputs": [],
   "source": [
    "with open('seoul_api_key.txt', mode='r') as key_fd:\n",
    "    seoulapi_key = key_fd.read(100)"
   ]
  },
  {
   "cell_type": "code",
   "execution_count": 31,
   "metadata": {},
   "outputs": [],
   "source": [
    "corona_url = 'http://openapi.seoul.go.kr:8088'\n",
    "type = 'xml'\n",
    "start_index = 1\n",
    "end_index = 1000\n",
    "url = f'{corona_url}/{seoulapi_key}/{type}/Corona19Status/{start_index}/{end_index}'"
   ]
  },
  {
   "cell_type": "code",
   "execution_count": 32,
   "metadata": {},
   "outputs": [
    {
     "output_type": "stream",
     "name": "stdout",
     "text": [
      "15732\n"
     ]
    }
   ],
   "source": [
    "result = requests.get(url)\n",
    "soup = BeautifulSoup(result.text, 'xml')\n",
    "resultCode = soup.find('RESULT').find('CODE').get_text()\n",
    "if resultCode == 'INFO-000':\n",
    "    list_total_count = int(soup.find('list_total_count').get_text())\n",
    "    print(list_total_count)\n",
    "else:\n",
    "    print(soup.find('RESULT').find('MESSAGE').get_text())"
   ]
  },
  {
   "cell_type": "code",
   "execution_count": 21,
   "metadata": {},
   "outputs": [
    {
     "output_type": "execute_result",
     "data": {
      "text/plain": [
       "'15732'"
      ]
     },
     "metadata": {},
     "execution_count": 21
    }
   ],
   "source": [
    "list_total_count = soup.find('list_total_count').get_text()\n",
    "list_total_count"
   ]
  },
  {
   "cell_type": "code",
   "execution_count": 33,
   "metadata": {},
   "outputs": [],
   "source": [
    "items = soup.find_all('row')"
   ]
  },
  {
   "cell_type": "code",
   "execution_count": 34,
   "metadata": {},
   "outputs": [
    {
     "output_type": "execute_result",
     "data": {
      "text/plain": [
       "        연번     확진일  환자번호    국적  환자정보   지역   여행력         접촉력  조치사항    상태  이동경로  \\\n",
       "995  14737  12.20.  None  None  None  구로구  None  타시도 확진자 접촉  None  None  None   \n",
       "996  14736  12.20.  None  None  None  마포구  None   기타 확진자 접촉  None  None  None   \n",
       "997  14735  12.20.  None  None  None  마포구  None  타시도 확진자 접촉  None  None  None   \n",
       "998  14734  12.20.  None  None  None  마포구  None   기타 확진자 접촉  None  None  None   \n",
       "999  14733  12.20.  None  None  None  동작구  None    감염경로 조사중  None  None  None   \n",
       "\n",
       "                     등록일                  수정일  \n",
       "995  2020-12-23 10:56:36  2020-12-23 10:56:36  \n",
       "996  2020-12-23 10:56:36  2020-12-23 10:56:36  \n",
       "997  2020-12-23 10:56:36  2020-12-23 10:56:36  \n",
       "998  2020-12-23 10:56:36  2020-12-23 10:56:36  \n",
       "999  2020-12-23 10:56:36  2020-12-23 10:56:36  "
      ],
      "text/html": "<div>\n<style scoped>\n    .dataframe tbody tr th:only-of-type {\n        vertical-align: middle;\n    }\n\n    .dataframe tbody tr th {\n        vertical-align: top;\n    }\n\n    .dataframe thead th {\n        text-align: right;\n    }\n</style>\n<table border=\"1\" class=\"dataframe\">\n  <thead>\n    <tr style=\"text-align: right;\">\n      <th></th>\n      <th>연번</th>\n      <th>확진일</th>\n      <th>환자번호</th>\n      <th>국적</th>\n      <th>환자정보</th>\n      <th>지역</th>\n      <th>여행력</th>\n      <th>접촉력</th>\n      <th>조치사항</th>\n      <th>상태</th>\n      <th>이동경로</th>\n      <th>등록일</th>\n      <th>수정일</th>\n    </tr>\n  </thead>\n  <tbody>\n    <tr>\n      <th>995</th>\n      <td>14737</td>\n      <td>12.20.</td>\n      <td>None</td>\n      <td>None</td>\n      <td>None</td>\n      <td>구로구</td>\n      <td>None</td>\n      <td>타시도 확진자 접촉</td>\n      <td>None</td>\n      <td>None</td>\n      <td>None</td>\n      <td>2020-12-23 10:56:36</td>\n      <td>2020-12-23 10:56:36</td>\n    </tr>\n    <tr>\n      <th>996</th>\n      <td>14736</td>\n      <td>12.20.</td>\n      <td>None</td>\n      <td>None</td>\n      <td>None</td>\n      <td>마포구</td>\n      <td>None</td>\n      <td>기타 확진자 접촉</td>\n      <td>None</td>\n      <td>None</td>\n      <td>None</td>\n      <td>2020-12-23 10:56:36</td>\n      <td>2020-12-23 10:56:36</td>\n    </tr>\n    <tr>\n      <th>997</th>\n      <td>14735</td>\n      <td>12.20.</td>\n      <td>None</td>\n      <td>None</td>\n      <td>None</td>\n      <td>마포구</td>\n      <td>None</td>\n      <td>타시도 확진자 접촉</td>\n      <td>None</td>\n      <td>None</td>\n      <td>None</td>\n      <td>2020-12-23 10:56:36</td>\n      <td>2020-12-23 10:56:36</td>\n    </tr>\n    <tr>\n      <th>998</th>\n      <td>14734</td>\n      <td>12.20.</td>\n      <td>None</td>\n      <td>None</td>\n      <td>None</td>\n      <td>마포구</td>\n      <td>None</td>\n      <td>기타 확진자 접촉</td>\n      <td>None</td>\n      <td>None</td>\n      <td>None</td>\n      <td>2020-12-23 10:56:36</td>\n      <td>2020-12-23 10:56:36</td>\n    </tr>\n    <tr>\n      <th>999</th>\n      <td>14733</td>\n      <td>12.20.</td>\n      <td>None</td>\n      <td>None</td>\n      <td>None</td>\n      <td>동작구</td>\n      <td>None</td>\n      <td>감염경로 조사중</td>\n      <td>None</td>\n      <td>None</td>\n      <td>None</td>\n      <td>2020-12-23 10:56:36</td>\n      <td>2020-12-23 10:56:36</td>\n    </tr>\n  </tbody>\n</table>\n</div>"
     },
     "metadata": {},
     "execution_count": 34
    }
   ],
   "source": [
    "id_list, date_list, no_list, country_list = [],[],[],[]\n",
    "personal_list, area_list, travel_list, contact_list = [],[],[],[]\n",
    "corrective_list, status_list, moving_list, idate_list = [],[],[],[]\n",
    "mdate_list = []\n",
    "for item in items:\n",
    "    id_list.append(item.find('CORONA19_ID').string)\n",
    "    date_list.append(item.find('CORONA19_DATE').string)\n",
    "    no_list.append(item.find('CORONA19_NO').string)\n",
    "    country_list.append(item.find('CORONA19_COUNTRY').string)\n",
    "    personal_list.append(item.find('CORONA19_PERSONAL').string)\n",
    "    area_list.append(item.find('CORONA19_AREA').string)\n",
    "    travel_list.append(item.find('CORONA19_TRAVEL_HISTORY').string)\n",
    "    contact_list.append(item.find('CORONA19_CONTACT_HISTORY').string)\n",
    "    corrective_list.append(item.find('CORONA19_CORRECTIVE').string)\n",
    "    status_list.append(item.find('CORONA19_LEAVE_STATUS').string)\n",
    "    moving_list.append(item.find('CORONA19_MOVING_PATH').string)\n",
    "    idate_list.append(item.find('CORONA19_IDATE').string)\n",
    "    mdate_list.append(item.find('CORONA19_MDATE').string)\n",
    "\n",
    "df = pd.DataFrame({\n",
    "    '연번':id_list, '확진일':date_list, '환자번호':no_list, '국적':country_list,\n",
    "    '환자정보':personal_list, '지역':area_list, '여행력':travel_list,\n",
    "    '접촉력':contact_list, '조치사항':corrective_list, '상태':status_list, \n",
    "    '이동경로':moving_list, '등록일':idate_list, '수정일':mdate_list\n",
    "})\n",
    "df.tail()"
   ]
  },
  {
   "source": [
    "### 모든 데이터에 대해 처리"
   ],
   "cell_type": "markdown",
   "metadata": {}
  },
  {
   "cell_type": "code",
   "execution_count": 35,
   "metadata": {},
   "outputs": [],
   "source": [
    "from tqdm import tqdm_notebook"
   ]
  },
  {
   "cell_type": "code",
   "execution_count": 40,
   "metadata": {},
   "outputs": [
    {
     "output_type": "display_data",
     "data": {
      "text/plain": "HBox(children=(FloatProgress(value=0.0, max=16.0), HTML(value='')))",
      "application/vnd.jupyter.widget-view+json": {
       "version_major": 2,
       "version_minor": 0,
       "model_id": "97cd0015f2194bc28ec2ed0d18af9f7a"
      }
     },
     "metadata": {}
    },
    {
     "output_type": "stream",
     "name": "stdout",
     "text": [
      "\n"
     ]
    }
   ],
   "source": [
    "id_list, date_list, no_list, country_list = [],[],[],[]\n",
    "personal_list, area_list, travel_list, contact_list = [],[],[],[]\n",
    "corrective_list, status_list, moving_list, idate_list = [],[],[],[]\n",
    "mdate_list = []\n",
    "for i in tqdm_notebook(range(1, list_total_count, 1000)):\n",
    "    start_index = i\n",
    "    end_index = i+1000-1 if i+1000-1<list_total_count else list_total_count\n",
    "    url = f'{corona_url}/{seoulapi_key}/{type}/Corona19Status/{start_index}/{end_index}'\n",
    "    result = requests.get(url)\n",
    "    soup = BeautifulSoup(result.text, 'xml')\n",
    "    items = soup.find_all('row')\n",
    "\n",
    "    for item in items:\n",
    "        id_list.append(item.find('CORONA19_ID').string)\n",
    "        date_list.append(item.find('CORONA19_DATE').string)\n",
    "        no_list.append(item.find('CORONA19_NO').string)\n",
    "        country_list.append(item.find('CORONA19_COUNTRY').string)\n",
    "        personal_list.append(item.find('CORONA19_PERSONAL').string)\n",
    "        area_list.append(item.find('CORONA19_AREA').string)\n",
    "        travel_list.append(item.find('CORONA19_TRAVEL_HISTORY').string)\n",
    "        contact_list.append(item.find('CORONA19_CONTACT_HISTORY').string)\n",
    "        corrective_list.append(item.find('CORONA19_CORRECTIVE').string)\n",
    "        status_list.append(item.find('CORONA19_LEAVE_STATUS').string)\n",
    "        moving_list.append(item.find('CORONA19_MOVING_PATH').string)\n",
    "        idate_list.append(item.find('CORONA19_IDATE').string)\n",
    "        mdate_list.append(item.find('CORONA19_MDATE').string)\n"
   ]
  },
  {
   "cell_type": "code",
   "execution_count": 41,
   "metadata": {},
   "outputs": [
    {
     "output_type": "execute_result",
     "data": {
      "text/plain": [
       "      연번    확진일  환자번호    국적  환자정보   지역     여행력    접촉력  조치사항  상태          이동경로  \\\n",
       "15727  5  1.31.  None  None  None  성북구    None  #5 접촉  None  퇴원  이동경로 공개기간 경과   \n",
       "15728  4  1.30.  None  None  None  마포구  중국 우한시  해외 접촉  None  퇴원  이동경로 공개기간 경과   \n",
       "15729  3  1.30.  None  None  None  종로구    None  #3 접촉  None  퇴원  이동경로 공개기간 경과   \n",
       "15730  2  1.30.  None  None  None  중랑구  중국 우한시  해외 접촉  None  퇴원  이동경로 공개기간 경과   \n",
       "15731  1  1.24.  None  None  None  강서구  중국 우한시  해외 접촉  None  퇴원  이동경로 공개기간 경과   \n",
       "\n",
       "                       등록일                  수정일  \n",
       "15727  2020-12-22 10:35:10  2020-12-22 10:35:10  \n",
       "15728  2020-12-22 10:35:10  2020-12-22 10:35:10  \n",
       "15729  2020-12-22 10:35:10  2020-12-22 10:35:10  \n",
       "15730  2020-12-22 10:35:10  2020-12-22 10:35:10  \n",
       "15731  2020-12-22 10:35:10  2020-12-22 10:35:10  "
      ],
      "text/html": "<div>\n<style scoped>\n    .dataframe tbody tr th:only-of-type {\n        vertical-align: middle;\n    }\n\n    .dataframe tbody tr th {\n        vertical-align: top;\n    }\n\n    .dataframe thead th {\n        text-align: right;\n    }\n</style>\n<table border=\"1\" class=\"dataframe\">\n  <thead>\n    <tr style=\"text-align: right;\">\n      <th></th>\n      <th>연번</th>\n      <th>확진일</th>\n      <th>환자번호</th>\n      <th>국적</th>\n      <th>환자정보</th>\n      <th>지역</th>\n      <th>여행력</th>\n      <th>접촉력</th>\n      <th>조치사항</th>\n      <th>상태</th>\n      <th>이동경로</th>\n      <th>등록일</th>\n      <th>수정일</th>\n    </tr>\n  </thead>\n  <tbody>\n    <tr>\n      <th>15727</th>\n      <td>5</td>\n      <td>1.31.</td>\n      <td>None</td>\n      <td>None</td>\n      <td>None</td>\n      <td>성북구</td>\n      <td>None</td>\n      <td>#5 접촉</td>\n      <td>None</td>\n      <td>퇴원</td>\n      <td>이동경로 공개기간 경과</td>\n      <td>2020-12-22 10:35:10</td>\n      <td>2020-12-22 10:35:10</td>\n    </tr>\n    <tr>\n      <th>15728</th>\n      <td>4</td>\n      <td>1.30.</td>\n      <td>None</td>\n      <td>None</td>\n      <td>None</td>\n      <td>마포구</td>\n      <td>중국 우한시</td>\n      <td>해외 접촉</td>\n      <td>None</td>\n      <td>퇴원</td>\n      <td>이동경로 공개기간 경과</td>\n      <td>2020-12-22 10:35:10</td>\n      <td>2020-12-22 10:35:10</td>\n    </tr>\n    <tr>\n      <th>15729</th>\n      <td>3</td>\n      <td>1.30.</td>\n      <td>None</td>\n      <td>None</td>\n      <td>None</td>\n      <td>종로구</td>\n      <td>None</td>\n      <td>#3 접촉</td>\n      <td>None</td>\n      <td>퇴원</td>\n      <td>이동경로 공개기간 경과</td>\n      <td>2020-12-22 10:35:10</td>\n      <td>2020-12-22 10:35:10</td>\n    </tr>\n    <tr>\n      <th>15730</th>\n      <td>2</td>\n      <td>1.30.</td>\n      <td>None</td>\n      <td>None</td>\n      <td>None</td>\n      <td>중랑구</td>\n      <td>중국 우한시</td>\n      <td>해외 접촉</td>\n      <td>None</td>\n      <td>퇴원</td>\n      <td>이동경로 공개기간 경과</td>\n      <td>2020-12-22 10:35:10</td>\n      <td>2020-12-22 10:35:10</td>\n    </tr>\n    <tr>\n      <th>15731</th>\n      <td>1</td>\n      <td>1.24.</td>\n      <td>None</td>\n      <td>None</td>\n      <td>None</td>\n      <td>강서구</td>\n      <td>중국 우한시</td>\n      <td>해외 접촉</td>\n      <td>None</td>\n      <td>퇴원</td>\n      <td>이동경로 공개기간 경과</td>\n      <td>2020-12-22 10:35:10</td>\n      <td>2020-12-22 10:35:10</td>\n    </tr>\n  </tbody>\n</table>\n</div>"
     },
     "metadata": {},
     "execution_count": 41
    }
   ],
   "source": [
    "df = pd.DataFrame({\n",
    "    '연번':id_list, '확진일':date_list, '환자번호':no_list, '국적':country_list,\n",
    "    '환자정보':personal_list, '지역':area_list, '여행력':travel_list,\n",
    "    '접촉력':contact_list, '조치사항':corrective_list, '상태':status_list, \n",
    "    '이동경로':moving_list, '등록일':idate_list, '수정일':mdate_list\n",
    "})\n",
    "df.tail()"
   ]
  },
  {
   "cell_type": "code",
   "execution_count": 42,
   "metadata": {},
   "outputs": [],
   "source": [
    "df.to_csv('covid-seoul.csv')"
   ]
  },
  {
   "cell_type": "code",
   "execution_count": 62,
   "metadata": {},
   "outputs": [],
   "source": [
    "df = pd.read_csv('covid-seoul.csv')"
   ]
  },
  {
   "cell_type": "code",
   "execution_count": 63,
   "metadata": {},
   "outputs": [
    {
     "output_type": "execute_result",
     "data": {
      "text/plain": [
       "   Unnamed: 0     연번     확진일  환자번호  국적  환자정보  지역  여행력             접촉력  조치사항  \\\n",
       "0           0  15732  12.22.   NaN NaN   NaN  기타  NaN  구로구 소재 요양병원 관련   NaN   \n",
       "1           1  15731  12.22.   NaN NaN   NaN  기타  NaN  구로구 소재 요양병원 관련   NaN   \n",
       "2           2  15730  12.22.   NaN NaN   NaN  기타  NaN  구로구 소재 요양병원 관련   NaN   \n",
       "3           3  15729  12.22.   NaN NaN   NaN  기타  NaN  구로구 소재 요양병원 관련   NaN   \n",
       "4           4  15728  12.22.   NaN NaN   NaN  기타  NaN  구로구 소재 요양병원 관련   NaN   \n",
       "\n",
       "    상태 이동경로                  등록일                  수정일  \n",
       "0  NaN  NaN  2020-12-23 10:56:38  2020-12-23 10:56:38  \n",
       "1  NaN  NaN  2020-12-23 10:56:38  2020-12-23 10:56:38  \n",
       "2  NaN  NaN  2020-12-23 10:56:38  2020-12-23 10:56:38  \n",
       "3  NaN  NaN  2020-12-23 10:56:38  2020-12-23 10:56:38  \n",
       "4  NaN  NaN  2020-12-23 10:56:38  2020-12-23 10:56:38  "
      ],
      "text/html": "<div>\n<style scoped>\n    .dataframe tbody tr th:only-of-type {\n        vertical-align: middle;\n    }\n\n    .dataframe tbody tr th {\n        vertical-align: top;\n    }\n\n    .dataframe thead th {\n        text-align: right;\n    }\n</style>\n<table border=\"1\" class=\"dataframe\">\n  <thead>\n    <tr style=\"text-align: right;\">\n      <th></th>\n      <th>Unnamed: 0</th>\n      <th>연번</th>\n      <th>확진일</th>\n      <th>환자번호</th>\n      <th>국적</th>\n      <th>환자정보</th>\n      <th>지역</th>\n      <th>여행력</th>\n      <th>접촉력</th>\n      <th>조치사항</th>\n      <th>상태</th>\n      <th>이동경로</th>\n      <th>등록일</th>\n      <th>수정일</th>\n    </tr>\n  </thead>\n  <tbody>\n    <tr>\n      <th>0</th>\n      <td>0</td>\n      <td>15732</td>\n      <td>12.22.</td>\n      <td>NaN</td>\n      <td>NaN</td>\n      <td>NaN</td>\n      <td>기타</td>\n      <td>NaN</td>\n      <td>구로구 소재 요양병원 관련</td>\n      <td>NaN</td>\n      <td>NaN</td>\n      <td>NaN</td>\n      <td>2020-12-23 10:56:38</td>\n      <td>2020-12-23 10:56:38</td>\n    </tr>\n    <tr>\n      <th>1</th>\n      <td>1</td>\n      <td>15731</td>\n      <td>12.22.</td>\n      <td>NaN</td>\n      <td>NaN</td>\n      <td>NaN</td>\n      <td>기타</td>\n      <td>NaN</td>\n      <td>구로구 소재 요양병원 관련</td>\n      <td>NaN</td>\n      <td>NaN</td>\n      <td>NaN</td>\n      <td>2020-12-23 10:56:38</td>\n      <td>2020-12-23 10:56:38</td>\n    </tr>\n    <tr>\n      <th>2</th>\n      <td>2</td>\n      <td>15730</td>\n      <td>12.22.</td>\n      <td>NaN</td>\n      <td>NaN</td>\n      <td>NaN</td>\n      <td>기타</td>\n      <td>NaN</td>\n      <td>구로구 소재 요양병원 관련</td>\n      <td>NaN</td>\n      <td>NaN</td>\n      <td>NaN</td>\n      <td>2020-12-23 10:56:38</td>\n      <td>2020-12-23 10:56:38</td>\n    </tr>\n    <tr>\n      <th>3</th>\n      <td>3</td>\n      <td>15729</td>\n      <td>12.22.</td>\n      <td>NaN</td>\n      <td>NaN</td>\n      <td>NaN</td>\n      <td>기타</td>\n      <td>NaN</td>\n      <td>구로구 소재 요양병원 관련</td>\n      <td>NaN</td>\n      <td>NaN</td>\n      <td>NaN</td>\n      <td>2020-12-23 10:56:38</td>\n      <td>2020-12-23 10:56:38</td>\n    </tr>\n    <tr>\n      <th>4</th>\n      <td>4</td>\n      <td>15728</td>\n      <td>12.22.</td>\n      <td>NaN</td>\n      <td>NaN</td>\n      <td>NaN</td>\n      <td>기타</td>\n      <td>NaN</td>\n      <td>구로구 소재 요양병원 관련</td>\n      <td>NaN</td>\n      <td>NaN</td>\n      <td>NaN</td>\n      <td>2020-12-23 10:56:38</td>\n      <td>2020-12-23 10:56:38</td>\n    </tr>\n  </tbody>\n</table>\n</div>"
     },
     "metadata": {},
     "execution_count": 63
    }
   ],
   "source": [
    "df['연번'] = df['연번'].astype(int)\n",
    "df.head()"
   ]
  },
  {
   "cell_type": "code",
   "execution_count": 64,
   "metadata": {},
   "outputs": [
    {
     "output_type": "execute_result",
     "data": {
      "text/plain": [
       "       Unnamed: 0     확진일  환자번호  국적  환자정보  지역  여행력             접촉력  조치사항   상태  \\\n",
       "연번                                                                              \n",
       "15728           4  12.22.   NaN NaN   NaN  기타  NaN  구로구 소재 요양병원 관련   NaN  NaN   \n",
       "15729           3  12.22.   NaN NaN   NaN  기타  NaN  구로구 소재 요양병원 관련   NaN  NaN   \n",
       "15730           2  12.22.   NaN NaN   NaN  기타  NaN  구로구 소재 요양병원 관련   NaN  NaN   \n",
       "15731           1  12.22.   NaN NaN   NaN  기타  NaN  구로구 소재 요양병원 관련   NaN  NaN   \n",
       "15732           0  12.22.   NaN NaN   NaN  기타  NaN  구로구 소재 요양병원 관련   NaN  NaN   \n",
       "\n",
       "      이동경로                  등록일                  수정일  \n",
       "연번                                                    \n",
       "15728  NaN  2020-12-23 10:56:38  2020-12-23 10:56:38  \n",
       "15729  NaN  2020-12-23 10:56:38  2020-12-23 10:56:38  \n",
       "15730  NaN  2020-12-23 10:56:38  2020-12-23 10:56:38  \n",
       "15731  NaN  2020-12-23 10:56:38  2020-12-23 10:56:38  \n",
       "15732  NaN  2020-12-23 10:56:38  2020-12-23 10:56:38  "
      ],
      "text/html": "<div>\n<style scoped>\n    .dataframe tbody tr th:only-of-type {\n        vertical-align: middle;\n    }\n\n    .dataframe tbody tr th {\n        vertical-align: top;\n    }\n\n    .dataframe thead th {\n        text-align: right;\n    }\n</style>\n<table border=\"1\" class=\"dataframe\">\n  <thead>\n    <tr style=\"text-align: right;\">\n      <th></th>\n      <th>Unnamed: 0</th>\n      <th>확진일</th>\n      <th>환자번호</th>\n      <th>국적</th>\n      <th>환자정보</th>\n      <th>지역</th>\n      <th>여행력</th>\n      <th>접촉력</th>\n      <th>조치사항</th>\n      <th>상태</th>\n      <th>이동경로</th>\n      <th>등록일</th>\n      <th>수정일</th>\n    </tr>\n    <tr>\n      <th>연번</th>\n      <th></th>\n      <th></th>\n      <th></th>\n      <th></th>\n      <th></th>\n      <th></th>\n      <th></th>\n      <th></th>\n      <th></th>\n      <th></th>\n      <th></th>\n      <th></th>\n      <th></th>\n    </tr>\n  </thead>\n  <tbody>\n    <tr>\n      <th>15728</th>\n      <td>4</td>\n      <td>12.22.</td>\n      <td>NaN</td>\n      <td>NaN</td>\n      <td>NaN</td>\n      <td>기타</td>\n      <td>NaN</td>\n      <td>구로구 소재 요양병원 관련</td>\n      <td>NaN</td>\n      <td>NaN</td>\n      <td>NaN</td>\n      <td>2020-12-23 10:56:38</td>\n      <td>2020-12-23 10:56:38</td>\n    </tr>\n    <tr>\n      <th>15729</th>\n      <td>3</td>\n      <td>12.22.</td>\n      <td>NaN</td>\n      <td>NaN</td>\n      <td>NaN</td>\n      <td>기타</td>\n      <td>NaN</td>\n      <td>구로구 소재 요양병원 관련</td>\n      <td>NaN</td>\n      <td>NaN</td>\n      <td>NaN</td>\n      <td>2020-12-23 10:56:38</td>\n      <td>2020-12-23 10:56:38</td>\n    </tr>\n    <tr>\n      <th>15730</th>\n      <td>2</td>\n      <td>12.22.</td>\n      <td>NaN</td>\n      <td>NaN</td>\n      <td>NaN</td>\n      <td>기타</td>\n      <td>NaN</td>\n      <td>구로구 소재 요양병원 관련</td>\n      <td>NaN</td>\n      <td>NaN</td>\n      <td>NaN</td>\n      <td>2020-12-23 10:56:38</td>\n      <td>2020-12-23 10:56:38</td>\n    </tr>\n    <tr>\n      <th>15731</th>\n      <td>1</td>\n      <td>12.22.</td>\n      <td>NaN</td>\n      <td>NaN</td>\n      <td>NaN</td>\n      <td>기타</td>\n      <td>NaN</td>\n      <td>구로구 소재 요양병원 관련</td>\n      <td>NaN</td>\n      <td>NaN</td>\n      <td>NaN</td>\n      <td>2020-12-23 10:56:38</td>\n      <td>2020-12-23 10:56:38</td>\n    </tr>\n    <tr>\n      <th>15732</th>\n      <td>0</td>\n      <td>12.22.</td>\n      <td>NaN</td>\n      <td>NaN</td>\n      <td>NaN</td>\n      <td>기타</td>\n      <td>NaN</td>\n      <td>구로구 소재 요양병원 관련</td>\n      <td>NaN</td>\n      <td>NaN</td>\n      <td>NaN</td>\n      <td>2020-12-23 10:56:38</td>\n      <td>2020-12-23 10:56:38</td>\n    </tr>\n  </tbody>\n</table>\n</div>"
     },
     "metadata": {},
     "execution_count": 64
    }
   ],
   "source": [
    "df.sort_values('연번', inplace=True)\n",
    "df.set_index('연번', inplace=True)\n",
    "df.tail()"
   ]
  },
  {
   "cell_type": "code",
   "execution_count": 65,
   "metadata": {},
   "outputs": [
    {
     "output_type": "execute_result",
     "data": {
      "text/plain": [
       "       Unnamed: 0          확진일  환자번호  국적  환자정보  지역  여행력             접촉력  조치사항  \\\n",
       "연번                                                                              \n",
       "15728           4  2020.12.22.   NaN NaN   NaN  기타  NaN  구로구 소재 요양병원 관련   NaN   \n",
       "15729           3  2020.12.22.   NaN NaN   NaN  기타  NaN  구로구 소재 요양병원 관련   NaN   \n",
       "15730           2  2020.12.22.   NaN NaN   NaN  기타  NaN  구로구 소재 요양병원 관련   NaN   \n",
       "15731           1  2020.12.22.   NaN NaN   NaN  기타  NaN  구로구 소재 요양병원 관련   NaN   \n",
       "15732           0  2020.12.22.   NaN NaN   NaN  기타  NaN  구로구 소재 요양병원 관련   NaN   \n",
       "\n",
       "        상태 이동경로                  등록일                  수정일  \n",
       "연번                                                         \n",
       "15728  NaN  NaN  2020-12-23 10:56:38  2020-12-23 10:56:38  \n",
       "15729  NaN  NaN  2020-12-23 10:56:38  2020-12-23 10:56:38  \n",
       "15730  NaN  NaN  2020-12-23 10:56:38  2020-12-23 10:56:38  \n",
       "15731  NaN  NaN  2020-12-23 10:56:38  2020-12-23 10:56:38  \n",
       "15732  NaN  NaN  2020-12-23 10:56:38  2020-12-23 10:56:38  "
      ],
      "text/html": "<div>\n<style scoped>\n    .dataframe tbody tr th:only-of-type {\n        vertical-align: middle;\n    }\n\n    .dataframe tbody tr th {\n        vertical-align: top;\n    }\n\n    .dataframe thead th {\n        text-align: right;\n    }\n</style>\n<table border=\"1\" class=\"dataframe\">\n  <thead>\n    <tr style=\"text-align: right;\">\n      <th></th>\n      <th>Unnamed: 0</th>\n      <th>확진일</th>\n      <th>환자번호</th>\n      <th>국적</th>\n      <th>환자정보</th>\n      <th>지역</th>\n      <th>여행력</th>\n      <th>접촉력</th>\n      <th>조치사항</th>\n      <th>상태</th>\n      <th>이동경로</th>\n      <th>등록일</th>\n      <th>수정일</th>\n    </tr>\n    <tr>\n      <th>연번</th>\n      <th></th>\n      <th></th>\n      <th></th>\n      <th></th>\n      <th></th>\n      <th></th>\n      <th></th>\n      <th></th>\n      <th></th>\n      <th></th>\n      <th></th>\n      <th></th>\n      <th></th>\n    </tr>\n  </thead>\n  <tbody>\n    <tr>\n      <th>15728</th>\n      <td>4</td>\n      <td>2020.12.22.</td>\n      <td>NaN</td>\n      <td>NaN</td>\n      <td>NaN</td>\n      <td>기타</td>\n      <td>NaN</td>\n      <td>구로구 소재 요양병원 관련</td>\n      <td>NaN</td>\n      <td>NaN</td>\n      <td>NaN</td>\n      <td>2020-12-23 10:56:38</td>\n      <td>2020-12-23 10:56:38</td>\n    </tr>\n    <tr>\n      <th>15729</th>\n      <td>3</td>\n      <td>2020.12.22.</td>\n      <td>NaN</td>\n      <td>NaN</td>\n      <td>NaN</td>\n      <td>기타</td>\n      <td>NaN</td>\n      <td>구로구 소재 요양병원 관련</td>\n      <td>NaN</td>\n      <td>NaN</td>\n      <td>NaN</td>\n      <td>2020-12-23 10:56:38</td>\n      <td>2020-12-23 10:56:38</td>\n    </tr>\n    <tr>\n      <th>15730</th>\n      <td>2</td>\n      <td>2020.12.22.</td>\n      <td>NaN</td>\n      <td>NaN</td>\n      <td>NaN</td>\n      <td>기타</td>\n      <td>NaN</td>\n      <td>구로구 소재 요양병원 관련</td>\n      <td>NaN</td>\n      <td>NaN</td>\n      <td>NaN</td>\n      <td>2020-12-23 10:56:38</td>\n      <td>2020-12-23 10:56:38</td>\n    </tr>\n    <tr>\n      <th>15731</th>\n      <td>1</td>\n      <td>2020.12.22.</td>\n      <td>NaN</td>\n      <td>NaN</td>\n      <td>NaN</td>\n      <td>기타</td>\n      <td>NaN</td>\n      <td>구로구 소재 요양병원 관련</td>\n      <td>NaN</td>\n      <td>NaN</td>\n      <td>NaN</td>\n      <td>2020-12-23 10:56:38</td>\n      <td>2020-12-23 10:56:38</td>\n    </tr>\n    <tr>\n      <th>15732</th>\n      <td>0</td>\n      <td>2020.12.22.</td>\n      <td>NaN</td>\n      <td>NaN</td>\n      <td>NaN</td>\n      <td>기타</td>\n      <td>NaN</td>\n      <td>구로구 소재 요양병원 관련</td>\n      <td>NaN</td>\n      <td>NaN</td>\n      <td>NaN</td>\n      <td>2020-12-23 10:56:38</td>\n      <td>2020-12-23 10:56:38</td>\n    </tr>\n  </tbody>\n</table>\n</div>"
     },
     "metadata": {},
     "execution_count": 65
    }
   ],
   "source": [
    "df['확진일'] = '2020.' + df['확진일']\n",
    "df.tail()"
   ]
  },
  {
   "cell_type": "code",
   "execution_count": 66,
   "metadata": {},
   "outputs": [
    {
     "output_type": "execute_result",
     "data": {
      "text/plain": [
       "       Unnamed: 0        확진일  환자번호  국적  환자정보  지역  여행력             접촉력  조치사항  \\\n",
       "연번                                                                            \n",
       "15728           4 2020-12-22   NaN NaN   NaN  기타  NaN  구로구 소재 요양병원 관련   NaN   \n",
       "15729           3 2020-12-22   NaN NaN   NaN  기타  NaN  구로구 소재 요양병원 관련   NaN   \n",
       "15730           2 2020-12-22   NaN NaN   NaN  기타  NaN  구로구 소재 요양병원 관련   NaN   \n",
       "15731           1 2020-12-22   NaN NaN   NaN  기타  NaN  구로구 소재 요양병원 관련   NaN   \n",
       "15732           0 2020-12-22   NaN NaN   NaN  기타  NaN  구로구 소재 요양병원 관련   NaN   \n",
       "\n",
       "        상태 이동경로                  등록일                  수정일  \n",
       "연번                                                         \n",
       "15728  NaN  NaN  2020-12-23 10:56:38  2020-12-23 10:56:38  \n",
       "15729  NaN  NaN  2020-12-23 10:56:38  2020-12-23 10:56:38  \n",
       "15730  NaN  NaN  2020-12-23 10:56:38  2020-12-23 10:56:38  \n",
       "15731  NaN  NaN  2020-12-23 10:56:38  2020-12-23 10:56:38  \n",
       "15732  NaN  NaN  2020-12-23 10:56:38  2020-12-23 10:56:38  "
      ],
      "text/html": "<div>\n<style scoped>\n    .dataframe tbody tr th:only-of-type {\n        vertical-align: middle;\n    }\n\n    .dataframe tbody tr th {\n        vertical-align: top;\n    }\n\n    .dataframe thead th {\n        text-align: right;\n    }\n</style>\n<table border=\"1\" class=\"dataframe\">\n  <thead>\n    <tr style=\"text-align: right;\">\n      <th></th>\n      <th>Unnamed: 0</th>\n      <th>확진일</th>\n      <th>환자번호</th>\n      <th>국적</th>\n      <th>환자정보</th>\n      <th>지역</th>\n      <th>여행력</th>\n      <th>접촉력</th>\n      <th>조치사항</th>\n      <th>상태</th>\n      <th>이동경로</th>\n      <th>등록일</th>\n      <th>수정일</th>\n    </tr>\n    <tr>\n      <th>연번</th>\n      <th></th>\n      <th></th>\n      <th></th>\n      <th></th>\n      <th></th>\n      <th></th>\n      <th></th>\n      <th></th>\n      <th></th>\n      <th></th>\n      <th></th>\n      <th></th>\n      <th></th>\n    </tr>\n  </thead>\n  <tbody>\n    <tr>\n      <th>15728</th>\n      <td>4</td>\n      <td>2020-12-22</td>\n      <td>NaN</td>\n      <td>NaN</td>\n      <td>NaN</td>\n      <td>기타</td>\n      <td>NaN</td>\n      <td>구로구 소재 요양병원 관련</td>\n      <td>NaN</td>\n      <td>NaN</td>\n      <td>NaN</td>\n      <td>2020-12-23 10:56:38</td>\n      <td>2020-12-23 10:56:38</td>\n    </tr>\n    <tr>\n      <th>15729</th>\n      <td>3</td>\n      <td>2020-12-22</td>\n      <td>NaN</td>\n      <td>NaN</td>\n      <td>NaN</td>\n      <td>기타</td>\n      <td>NaN</td>\n      <td>구로구 소재 요양병원 관련</td>\n      <td>NaN</td>\n      <td>NaN</td>\n      <td>NaN</td>\n      <td>2020-12-23 10:56:38</td>\n      <td>2020-12-23 10:56:38</td>\n    </tr>\n    <tr>\n      <th>15730</th>\n      <td>2</td>\n      <td>2020-12-22</td>\n      <td>NaN</td>\n      <td>NaN</td>\n      <td>NaN</td>\n      <td>기타</td>\n      <td>NaN</td>\n      <td>구로구 소재 요양병원 관련</td>\n      <td>NaN</td>\n      <td>NaN</td>\n      <td>NaN</td>\n      <td>2020-12-23 10:56:38</td>\n      <td>2020-12-23 10:56:38</td>\n    </tr>\n    <tr>\n      <th>15731</th>\n      <td>1</td>\n      <td>2020-12-22</td>\n      <td>NaN</td>\n      <td>NaN</td>\n      <td>NaN</td>\n      <td>기타</td>\n      <td>NaN</td>\n      <td>구로구 소재 요양병원 관련</td>\n      <td>NaN</td>\n      <td>NaN</td>\n      <td>NaN</td>\n      <td>2020-12-23 10:56:38</td>\n      <td>2020-12-23 10:56:38</td>\n    </tr>\n    <tr>\n      <th>15732</th>\n      <td>0</td>\n      <td>2020-12-22</td>\n      <td>NaN</td>\n      <td>NaN</td>\n      <td>NaN</td>\n      <td>기타</td>\n      <td>NaN</td>\n      <td>구로구 소재 요양병원 관련</td>\n      <td>NaN</td>\n      <td>NaN</td>\n      <td>NaN</td>\n      <td>2020-12-23 10:56:38</td>\n      <td>2020-12-23 10:56:38</td>\n    </tr>\n  </tbody>\n</table>\n</div>"
     },
     "metadata": {},
     "execution_count": 66
    }
   ],
   "source": [
    "df['확진일'] = pd.to_datetime(df['확진일'])\n",
    "df.tail()"
   ]
  },
  {
   "cell_type": "code",
   "execution_count": 67,
   "metadata": {},
   "outputs": [
    {
     "output_type": "execute_result",
     "data": {
      "text/plain": [
       "(15732, 15732, 15732, 15732)"
      ]
     },
     "metadata": {},
     "execution_count": 67
    }
   ],
   "source": [
    "df['환자번호'].isna().sum(),df['국적'].isna().sum(),df['환자정보'].isna().sum(),df['조치사항'].isna().sum()"
   ]
  },
  {
   "cell_type": "code",
   "execution_count": 68,
   "metadata": {},
   "outputs": [
    {
     "output_type": "execute_result",
     "data": {
      "text/plain": [
       "array(['2020-12-22 10:35:10', '2020-12-22 10:35:11',\n",
       "       '2020-12-22 10:35:12', '2020-12-22 10:35:13',\n",
       "       '2020-12-22 10:35:14', '2020-12-22 10:35:15',\n",
       "       '2020-12-22 10:35:16', '2020-12-22 10:35:17',\n",
       "       '2020-12-22 10:35:18', '2020-12-22 10:35:19',\n",
       "       '2020-12-22 10:35:20', '2020-12-22 10:35:21',\n",
       "       '2020-12-22 10:35:22', '2020-12-22 10:35:23',\n",
       "       '2020-12-22 10:35:24', '2020-12-22 10:35:25',\n",
       "       '2020-12-22 10:35:26', '2020-12-22 10:35:27',\n",
       "       '2020-12-22 10:35:28', '2020-12-22 10:35:29',\n",
       "       '2020-12-22 10:35:30', '2020-12-23 10:56:27',\n",
       "       '2020-12-23 10:56:28', '2020-12-23 10:56:29',\n",
       "       '2020-12-23 10:56:30', '2020-12-23 10:56:31',\n",
       "       '2020-12-23 10:56:32', '2020-12-23 10:56:33',\n",
       "       '2020-12-23 10:56:34', '2020-12-23 10:56:35',\n",
       "       '2020-12-23 10:56:36', '2020-12-23 10:56:37',\n",
       "       '2020-12-23 10:56:38'], dtype=object)"
      ]
     },
     "metadata": {},
     "execution_count": 68
    }
   ],
   "source": [
    "df['등록일'].unique()"
   ]
  },
  {
   "cell_type": "code",
   "execution_count": 69,
   "metadata": {},
   "outputs": [
    {
     "output_type": "execute_result",
     "data": {
      "text/plain": [
       "array(['2020-12-22 10:35:10', '2020-12-22 10:35:11',\n",
       "       '2020-12-22 10:35:12', '2020-12-22 10:35:13',\n",
       "       '2020-12-22 10:35:14', '2020-12-22 10:35:15',\n",
       "       '2020-12-22 10:35:16', '2020-12-22 10:35:17',\n",
       "       '2020-12-22 10:35:18', '2020-12-22 10:35:19',\n",
       "       '2020-12-22 10:35:20', '2020-12-22 10:35:21',\n",
       "       '2020-12-22 10:35:22', '2020-12-22 10:58:09',\n",
       "       '2020-12-23 11:28:36', '2020-12-22 10:35:23',\n",
       "       '2020-12-22 10:38:23', '2020-12-22 10:57:22',\n",
       "       '2020-12-22 10:35:24', '2020-12-22 10:35:25',\n",
       "       '2020-12-22 10:35:26', '2020-12-22 10:35:27',\n",
       "       '2020-12-22 10:35:28', '2020-12-22 10:35:29',\n",
       "       '2020-12-23 11:17:50', '2020-12-22 10:35:30',\n",
       "       '2020-12-23 10:56:27', '2020-12-23 11:28:35',\n",
       "       '2020-12-23 10:56:28', '2020-12-23 10:56:29',\n",
       "       '2020-12-23 10:56:30', '2020-12-23 10:56:31',\n",
       "       '2020-12-23 10:56:32', '2020-12-23 10:56:33',\n",
       "       '2020-12-23 10:56:34', '2020-12-23 10:56:35',\n",
       "       '2020-12-23 10:56:36', '2020-12-23 10:56:37',\n",
       "       '2020-12-23 10:56:38'], dtype=object)"
      ]
     },
     "metadata": {},
     "execution_count": 69
    }
   ],
   "source": [
    "df['수정일'].unique()"
   ]
  },
  {
   "cell_type": "code",
   "execution_count": 70,
   "metadata": {},
   "outputs": [
    {
     "output_type": "execute_result",
     "data": {
      "text/plain": [
       "array(['이동경로 공개기간 경과', nan, '집에만 머물러 의미있는 동선 없음', '자가격리중으로 동선없음',\n",
       "       '관내 의미있는 동선없음',\n",
       "       '- 이동 시 아래 대중교통 이외에는 지인차 및 도보 이용 - 역학조사 기간중 우리구 동선은 자택 이외에는 없음 - 12.16.(수) 선별진료소에서 코로나19 진단검사 - 가족 진단검사 및 자가격리 실시',\n",
       "       '- 이동 시 아래 대중교통 이외에는 도보 이용 - 아래 동선 이외에는 자택에 머무름',\n",
       "       '- 이동 시 아래 대중교통 이외에는 지인차 및 도보 이용 - 아래 동선 이외에는 자택에 머무름',\n",
       "       '- 이동 시 도보 이용 - 아래 동선 이외에는 자택에 머무름',\n",
       "       '- 이동 시 가족차 및 도보 이용 - 역학조사 기간중 자택 이외에는 우리구내 이동동선이 없음 - 12.16.(수) 성북구보건소 선별진료소에서 코로나19 진단검사 - 가족 및 지인 진단검사 및 자가격리 실시',\n",
       "       '- 이동 시 자차 및 도보 이용 - 아래 동선 이외에는 자택에 머무름',\n",
       "       '- 이동 시 지인차,자전거 및 도보 이용 - 아래 동선 이외에는 자택에 머무름',\n",
       "       '- 이동 시 지인차 및 도보 이용 - 아래 동선 이외에는 자택에 머무름',\n",
       "       '- 이동 시 아래 대중교통 이외에는 자전거 및 도보 이용 - 아래 동선 이외에는 자택에 머무름',\n",
       "       '- 이동 시 지인차 및 도보 이용 - 역학조사 기간중 자택 이외에는 우리구 이동동선이 없음 - 12.16.(수) 씨젠의료재단 선별진료소에서 코로나19 진단검사 - 가족 및 지인 진단검사 및 자가격리 실시',\n",
       "       '- 이동 시 회사차 및 도보 이용 - 아래 동선 이외에는 자택에 머무름',\n",
       "       'o 주로 자택에 머물러 의미 있는 동선 없음', '15일부터 집에만 머뭄',\n",
       "       '주로 자택에 머물러 의미 있는 동선 없음', '자가격리 중으로 동선없음', '병원에서 숙식했으며 동선없음',\n",
       "       '병원에만 머물러 동선없음'], dtype=object)"
      ]
     },
     "metadata": {},
     "execution_count": 70
    }
   ],
   "source": [
    "df['이동경로'].unique()"
   ]
  },
  {
   "cell_type": "code",
   "execution_count": 71,
   "metadata": {},
   "outputs": [
    {
     "output_type": "execute_result",
     "data": {
      "text/plain": [
       "    Unnamed: 0        확진일  환자번호  국적  환자정보   지역     여행력    접촉력  조치사항  상태  \\\n",
       "연번                                                                        \n",
       "1        15731 2020-01-24   NaN NaN   NaN  강서구  중국 우한시  해외 접촉   NaN  퇴원   \n",
       "2        15730 2020-01-30   NaN NaN   NaN  중랑구  중국 우한시  해외 접촉   NaN  퇴원   \n",
       "3        15729 2020-01-30   NaN NaN   NaN  종로구     NaN  #3 접촉   NaN  퇴원   \n",
       "4        15728 2020-01-30   NaN NaN   NaN  마포구  중국 우한시  해외 접촉   NaN  퇴원   \n",
       "5        15727 2020-01-31   NaN NaN   NaN  성북구     NaN  #5 접촉   NaN  퇴원   \n",
       "\n",
       "            이동경로                  등록일                  수정일  \n",
       "연번                                                          \n",
       "1   이동경로 공개기간 경과  2020-12-22 10:35:10  2020-12-22 10:35:10  \n",
       "2   이동경로 공개기간 경과  2020-12-22 10:35:10  2020-12-22 10:35:10  \n",
       "3   이동경로 공개기간 경과  2020-12-22 10:35:10  2020-12-22 10:35:10  \n",
       "4   이동경로 공개기간 경과  2020-12-22 10:35:10  2020-12-22 10:35:10  \n",
       "5   이동경로 공개기간 경과  2020-12-22 10:35:10  2020-12-22 10:35:10  "
      ],
      "text/html": "<div>\n<style scoped>\n    .dataframe tbody tr th:only-of-type {\n        vertical-align: middle;\n    }\n\n    .dataframe tbody tr th {\n        vertical-align: top;\n    }\n\n    .dataframe thead th {\n        text-align: right;\n    }\n</style>\n<table border=\"1\" class=\"dataframe\">\n  <thead>\n    <tr style=\"text-align: right;\">\n      <th></th>\n      <th>Unnamed: 0</th>\n      <th>확진일</th>\n      <th>환자번호</th>\n      <th>국적</th>\n      <th>환자정보</th>\n      <th>지역</th>\n      <th>여행력</th>\n      <th>접촉력</th>\n      <th>조치사항</th>\n      <th>상태</th>\n      <th>이동경로</th>\n      <th>등록일</th>\n      <th>수정일</th>\n    </tr>\n    <tr>\n      <th>연번</th>\n      <th></th>\n      <th></th>\n      <th></th>\n      <th></th>\n      <th></th>\n      <th></th>\n      <th></th>\n      <th></th>\n      <th></th>\n      <th></th>\n      <th></th>\n      <th></th>\n      <th></th>\n    </tr>\n  </thead>\n  <tbody>\n    <tr>\n      <th>1</th>\n      <td>15731</td>\n      <td>2020-01-24</td>\n      <td>NaN</td>\n      <td>NaN</td>\n      <td>NaN</td>\n      <td>강서구</td>\n      <td>중국 우한시</td>\n      <td>해외 접촉</td>\n      <td>NaN</td>\n      <td>퇴원</td>\n      <td>이동경로 공개기간 경과</td>\n      <td>2020-12-22 10:35:10</td>\n      <td>2020-12-22 10:35:10</td>\n    </tr>\n    <tr>\n      <th>2</th>\n      <td>15730</td>\n      <td>2020-01-30</td>\n      <td>NaN</td>\n      <td>NaN</td>\n      <td>NaN</td>\n      <td>중랑구</td>\n      <td>중국 우한시</td>\n      <td>해외 접촉</td>\n      <td>NaN</td>\n      <td>퇴원</td>\n      <td>이동경로 공개기간 경과</td>\n      <td>2020-12-22 10:35:10</td>\n      <td>2020-12-22 10:35:10</td>\n    </tr>\n    <tr>\n      <th>3</th>\n      <td>15729</td>\n      <td>2020-01-30</td>\n      <td>NaN</td>\n      <td>NaN</td>\n      <td>NaN</td>\n      <td>종로구</td>\n      <td>NaN</td>\n      <td>#3 접촉</td>\n      <td>NaN</td>\n      <td>퇴원</td>\n      <td>이동경로 공개기간 경과</td>\n      <td>2020-12-22 10:35:10</td>\n      <td>2020-12-22 10:35:10</td>\n    </tr>\n    <tr>\n      <th>4</th>\n      <td>15728</td>\n      <td>2020-01-30</td>\n      <td>NaN</td>\n      <td>NaN</td>\n      <td>NaN</td>\n      <td>마포구</td>\n      <td>중국 우한시</td>\n      <td>해외 접촉</td>\n      <td>NaN</td>\n      <td>퇴원</td>\n      <td>이동경로 공개기간 경과</td>\n      <td>2020-12-22 10:35:10</td>\n      <td>2020-12-22 10:35:10</td>\n    </tr>\n    <tr>\n      <th>5</th>\n      <td>15727</td>\n      <td>2020-01-31</td>\n      <td>NaN</td>\n      <td>NaN</td>\n      <td>NaN</td>\n      <td>성북구</td>\n      <td>NaN</td>\n      <td>#5 접촉</td>\n      <td>NaN</td>\n      <td>퇴원</td>\n      <td>이동경로 공개기간 경과</td>\n      <td>2020-12-22 10:35:10</td>\n      <td>2020-12-22 10:35:10</td>\n    </tr>\n  </tbody>\n</table>\n</div>"
     },
     "metadata": {},
     "execution_count": 71
    }
   ],
   "source": [
    "df.head()"
   ]
  },
  {
   "cell_type": "code",
   "execution_count": 74,
   "metadata": {},
   "outputs": [
    {
     "output_type": "execute_result",
     "data": {
      "text/plain": [
       "          확진일   지역     여행력    접촉력  상태          이동경로\n",
       "연번                                                 \n",
       "1  2020-01-24  강서구  중국 우한시  해외 접촉  퇴원  이동경로 공개기간 경과\n",
       "2  2020-01-30  중랑구  중국 우한시  해외 접촉  퇴원  이동경로 공개기간 경과\n",
       "3  2020-01-30  종로구     NaN  #3 접촉  퇴원  이동경로 공개기간 경과\n",
       "4  2020-01-30  마포구  중국 우한시  해외 접촉  퇴원  이동경로 공개기간 경과\n",
       "5  2020-01-31  성북구     NaN  #5 접촉  퇴원  이동경로 공개기간 경과"
      ],
      "text/html": "<div>\n<style scoped>\n    .dataframe tbody tr th:only-of-type {\n        vertical-align: middle;\n    }\n\n    .dataframe tbody tr th {\n        vertical-align: top;\n    }\n\n    .dataframe thead th {\n        text-align: right;\n    }\n</style>\n<table border=\"1\" class=\"dataframe\">\n  <thead>\n    <tr style=\"text-align: right;\">\n      <th></th>\n      <th>확진일</th>\n      <th>지역</th>\n      <th>여행력</th>\n      <th>접촉력</th>\n      <th>상태</th>\n      <th>이동경로</th>\n    </tr>\n    <tr>\n      <th>연번</th>\n      <th></th>\n      <th></th>\n      <th></th>\n      <th></th>\n      <th></th>\n      <th></th>\n    </tr>\n  </thead>\n  <tbody>\n    <tr>\n      <th>1</th>\n      <td>2020-01-24</td>\n      <td>강서구</td>\n      <td>중국 우한시</td>\n      <td>해외 접촉</td>\n      <td>퇴원</td>\n      <td>이동경로 공개기간 경과</td>\n    </tr>\n    <tr>\n      <th>2</th>\n      <td>2020-01-30</td>\n      <td>중랑구</td>\n      <td>중국 우한시</td>\n      <td>해외 접촉</td>\n      <td>퇴원</td>\n      <td>이동경로 공개기간 경과</td>\n    </tr>\n    <tr>\n      <th>3</th>\n      <td>2020-01-30</td>\n      <td>종로구</td>\n      <td>NaN</td>\n      <td>#3 접촉</td>\n      <td>퇴원</td>\n      <td>이동경로 공개기간 경과</td>\n    </tr>\n    <tr>\n      <th>4</th>\n      <td>2020-01-30</td>\n      <td>마포구</td>\n      <td>중국 우한시</td>\n      <td>해외 접촉</td>\n      <td>퇴원</td>\n      <td>이동경로 공개기간 경과</td>\n    </tr>\n    <tr>\n      <th>5</th>\n      <td>2020-01-31</td>\n      <td>성북구</td>\n      <td>NaN</td>\n      <td>#5 접촉</td>\n      <td>퇴원</td>\n      <td>이동경로 공개기간 경과</td>\n    </tr>\n  </tbody>\n</table>\n</div>"
     },
     "metadata": {},
     "execution_count": 74
    }
   ],
   "source": [
    "df = df[['확진일', '지역', '여행력', '접촉력', '상태', '이동경로']]\n",
    "df.head()"
   ]
  },
  {
   "cell_type": "code",
   "execution_count": 75,
   "metadata": {},
   "outputs": [],
   "source": [
    "df.to_csv('covid-seoul2.csv')"
   ]
  },
  {
   "source": [
    "### 데이터 클렌징"
   ],
   "cell_type": "markdown",
   "metadata": {}
  },
  {
   "cell_type": "code",
   "execution_count": 93,
   "metadata": {},
   "outputs": [
    {
     "output_type": "execute_result",
     "data": {
      "text/plain": [
       "          연번         확진일  지역  여행력             접촉력   상태 이동경로\n",
       "15727  15728  2020-12-22  기타  NaN  구로구 소재 요양병원 관련  NaN  NaN\n",
       "15728  15729  2020-12-22  기타  NaN  구로구 소재 요양병원 관련  NaN  NaN\n",
       "15729  15730  2020-12-22  기타  NaN  구로구 소재 요양병원 관련  NaN  NaN\n",
       "15730  15731  2020-12-22  기타  NaN  구로구 소재 요양병원 관련  NaN  NaN\n",
       "15731  15732  2020-12-22  기타  NaN  구로구 소재 요양병원 관련  NaN  NaN"
      ],
      "text/html": "<div>\n<style scoped>\n    .dataframe tbody tr th:only-of-type {\n        vertical-align: middle;\n    }\n\n    .dataframe tbody tr th {\n        vertical-align: top;\n    }\n\n    .dataframe thead th {\n        text-align: right;\n    }\n</style>\n<table border=\"1\" class=\"dataframe\">\n  <thead>\n    <tr style=\"text-align: right;\">\n      <th></th>\n      <th>연번</th>\n      <th>확진일</th>\n      <th>지역</th>\n      <th>여행력</th>\n      <th>접촉력</th>\n      <th>상태</th>\n      <th>이동경로</th>\n    </tr>\n  </thead>\n  <tbody>\n    <tr>\n      <th>15727</th>\n      <td>15728</td>\n      <td>2020-12-22</td>\n      <td>기타</td>\n      <td>NaN</td>\n      <td>구로구 소재 요양병원 관련</td>\n      <td>NaN</td>\n      <td>NaN</td>\n    </tr>\n    <tr>\n      <th>15728</th>\n      <td>15729</td>\n      <td>2020-12-22</td>\n      <td>기타</td>\n      <td>NaN</td>\n      <td>구로구 소재 요양병원 관련</td>\n      <td>NaN</td>\n      <td>NaN</td>\n    </tr>\n    <tr>\n      <th>15729</th>\n      <td>15730</td>\n      <td>2020-12-22</td>\n      <td>기타</td>\n      <td>NaN</td>\n      <td>구로구 소재 요양병원 관련</td>\n      <td>NaN</td>\n      <td>NaN</td>\n    </tr>\n    <tr>\n      <th>15730</th>\n      <td>15731</td>\n      <td>2020-12-22</td>\n      <td>기타</td>\n      <td>NaN</td>\n      <td>구로구 소재 요양병원 관련</td>\n      <td>NaN</td>\n      <td>NaN</td>\n    </tr>\n    <tr>\n      <th>15731</th>\n      <td>15732</td>\n      <td>2020-12-22</td>\n      <td>기타</td>\n      <td>NaN</td>\n      <td>구로구 소재 요양병원 관련</td>\n      <td>NaN</td>\n      <td>NaN</td>\n    </tr>\n  </tbody>\n</table>\n</div>"
     },
     "metadata": {},
     "execution_count": 93
    }
   ],
   "source": [
    "df = pd.read_csv('covid-seoul2.csv')\n",
    "df.tail()"
   ]
  },
  {
   "cell_type": "code",
   "execution_count": 94,
   "metadata": {},
   "outputs": [
    {
     "output_type": "execute_result",
     "data": {
      "text/plain": [
       "          연번         확진일  지역 여행력             접촉력 상태 이동경로\n",
       "15727  15728  2020-12-22  기타      구로구 소재 요양병원 관련        \n",
       "15728  15729  2020-12-22  기타      구로구 소재 요양병원 관련        \n",
       "15729  15730  2020-12-22  기타      구로구 소재 요양병원 관련        \n",
       "15730  15731  2020-12-22  기타      구로구 소재 요양병원 관련        \n",
       "15731  15732  2020-12-22  기타      구로구 소재 요양병원 관련        "
      ],
      "text/html": "<div>\n<style scoped>\n    .dataframe tbody tr th:only-of-type {\n        vertical-align: middle;\n    }\n\n    .dataframe tbody tr th {\n        vertical-align: top;\n    }\n\n    .dataframe thead th {\n        text-align: right;\n    }\n</style>\n<table border=\"1\" class=\"dataframe\">\n  <thead>\n    <tr style=\"text-align: right;\">\n      <th></th>\n      <th>연번</th>\n      <th>확진일</th>\n      <th>지역</th>\n      <th>여행력</th>\n      <th>접촉력</th>\n      <th>상태</th>\n      <th>이동경로</th>\n    </tr>\n  </thead>\n  <tbody>\n    <tr>\n      <th>15727</th>\n      <td>15728</td>\n      <td>2020-12-22</td>\n      <td>기타</td>\n      <td></td>\n      <td>구로구 소재 요양병원 관련</td>\n      <td></td>\n      <td></td>\n    </tr>\n    <tr>\n      <th>15728</th>\n      <td>15729</td>\n      <td>2020-12-22</td>\n      <td>기타</td>\n      <td></td>\n      <td>구로구 소재 요양병원 관련</td>\n      <td></td>\n      <td></td>\n    </tr>\n    <tr>\n      <th>15729</th>\n      <td>15730</td>\n      <td>2020-12-22</td>\n      <td>기타</td>\n      <td></td>\n      <td>구로구 소재 요양병원 관련</td>\n      <td></td>\n      <td></td>\n    </tr>\n    <tr>\n      <th>15730</th>\n      <td>15731</td>\n      <td>2020-12-22</td>\n      <td>기타</td>\n      <td></td>\n      <td>구로구 소재 요양병원 관련</td>\n      <td></td>\n      <td></td>\n    </tr>\n    <tr>\n      <th>15731</th>\n      <td>15732</td>\n      <td>2020-12-22</td>\n      <td>기타</td>\n      <td></td>\n      <td>구로구 소재 요양병원 관련</td>\n      <td></td>\n      <td></td>\n    </tr>\n  </tbody>\n</table>\n</div>"
     },
     "metadata": {},
     "execution_count": 94
    }
   ],
   "source": [
    "df['지역'].fillna('기타', inplace=True)\n",
    "df.fillna(' ', inplace=True)\n",
    "df.tail()"
   ]
  },
  {
   "cell_type": "code",
   "execution_count": 95,
   "metadata": {},
   "outputs": [
    {
     "output_type": "execute_result",
     "data": {
      "text/plain": [
       "array(['강서구', '중랑구', '종로구', '마포구', '성북구', '타시도', '송파구', '서대문구', '성동구',\n",
       "       '강남구', '서초구', '구로구', '강동구', '은평구', '관악구', '금천구', '노원구', '동작구',\n",
       "       '양천구', '동대문구', '광진구', '영등포구', '도봉구', '용산구', '강북구', '중구', '기타',\n",
       "       '서대', '경기도', '제주시', '송파구 ', '강서구 ', '중로구', '노원구 ', '관악구 '],\n",
       "      dtype=object)"
      ]
     },
     "metadata": {},
     "execution_count": 95
    }
   ],
   "source": [
    "df['지역'].unique()"
   ]
  },
  {
   "cell_type": "code",
   "execution_count": 96,
   "metadata": {},
   "outputs": [
    {
     "output_type": "execute_result",
     "data": {
      "text/plain": [
       "          연번         확진일  지역 여행력        접촉력 상태 이동경로\n",
       "13520  13521  2020-12-17  서대      기타 확진자 접촉        "
      ],
      "text/html": "<div>\n<style scoped>\n    .dataframe tbody tr th:only-of-type {\n        vertical-align: middle;\n    }\n\n    .dataframe tbody tr th {\n        vertical-align: top;\n    }\n\n    .dataframe thead th {\n        text-align: right;\n    }\n</style>\n<table border=\"1\" class=\"dataframe\">\n  <thead>\n    <tr style=\"text-align: right;\">\n      <th></th>\n      <th>연번</th>\n      <th>확진일</th>\n      <th>지역</th>\n      <th>여행력</th>\n      <th>접촉력</th>\n      <th>상태</th>\n      <th>이동경로</th>\n    </tr>\n  </thead>\n  <tbody>\n    <tr>\n      <th>13520</th>\n      <td>13521</td>\n      <td>2020-12-17</td>\n      <td>서대</td>\n      <td></td>\n      <td>기타 확진자 접촉</td>\n      <td></td>\n      <td></td>\n    </tr>\n  </tbody>\n</table>\n</div>"
     },
     "metadata": {},
     "execution_count": 96
    }
   ],
   "source": [
    "df[df['지역']=='서대']"
   ]
  },
  {
   "cell_type": "code",
   "execution_count": 97,
   "metadata": {},
   "outputs": [],
   "source": [
    "df['지역'][13520] = '서대문구'"
   ]
  },
  {
   "cell_type": "code",
   "execution_count": 98,
   "metadata": {},
   "outputs": [
    {
     "output_type": "execute_result",
     "data": {
      "text/plain": [
       "array(['강서구', '중랑구', '종로구', '마포구', '성북구', '타시도', '송파구', '서대문구', '성동구',\n",
       "       '강남구', '서초구', '구로구', '강동구', '은평구', '관악구', '금천구', '노원구', '동작구',\n",
       "       '양천구', '동대문구', '광진구', '영등포구', '도봉구', '용산구', '강북구', '중구', '기타',\n",
       "       '경기도', '제주시', '송파구 ', '강서구 ', '중로구', '노원구 ', '관악구 '], dtype=object)"
      ]
     },
     "metadata": {},
     "execution_count": 98
    }
   ],
   "source": [
    "df['지역'].unique()"
   ]
  },
  {
   "cell_type": "code",
   "execution_count": 100,
   "metadata": {},
   "outputs": [],
   "source": [
    "df['지역'] = df['지역'].map(lambda s: s.strip())"
   ]
  },
  {
   "cell_type": "code",
   "execution_count": 101,
   "metadata": {},
   "outputs": [
    {
     "output_type": "execute_result",
     "data": {
      "text/plain": [
       "array(['강서구', '중랑구', '종로구', '마포구', '성북구', '타시도', '송파구', '서대문구', '성동구',\n",
       "       '강남구', '서초구', '구로구', '강동구', '은평구', '관악구', '금천구', '노원구', '동작구',\n",
       "       '양천구', '동대문구', '광진구', '영등포구', '도봉구', '용산구', '강북구', '중구', '기타',\n",
       "       '경기도', '제주시', '중로구'], dtype=object)"
      ]
     },
     "metadata": {},
     "execution_count": 101
    }
   ],
   "source": [
    "df['지역'].unique()"
   ]
  },
  {
   "cell_type": "code",
   "execution_count": 102,
   "metadata": {},
   "outputs": [
    {
     "output_type": "execute_result",
     "data": {
      "text/plain": [
       "          연번         확진일   지역 여행력 접촉력 상태 이동경로\n",
       "15612  15613  2020-12-22  중로구      기타        "
      ],
      "text/html": "<div>\n<style scoped>\n    .dataframe tbody tr th:only-of-type {\n        vertical-align: middle;\n    }\n\n    .dataframe tbody tr th {\n        vertical-align: top;\n    }\n\n    .dataframe thead th {\n        text-align: right;\n    }\n</style>\n<table border=\"1\" class=\"dataframe\">\n  <thead>\n    <tr style=\"text-align: right;\">\n      <th></th>\n      <th>연번</th>\n      <th>확진일</th>\n      <th>지역</th>\n      <th>여행력</th>\n      <th>접촉력</th>\n      <th>상태</th>\n      <th>이동경로</th>\n    </tr>\n  </thead>\n  <tbody>\n    <tr>\n      <th>15612</th>\n      <td>15613</td>\n      <td>2020-12-22</td>\n      <td>중로구</td>\n      <td></td>\n      <td>기타</td>\n      <td></td>\n      <td></td>\n    </tr>\n  </tbody>\n</table>\n</div>"
     },
     "metadata": {},
     "execution_count": 102
    }
   ],
   "source": [
    "df[df['지역']=='중로구']"
   ]
  },
  {
   "cell_type": "code",
   "execution_count": 107,
   "metadata": {},
   "outputs": [],
   "source": [
    "df['지역'][15612] = '종로구'"
   ]
  },
  {
   "cell_type": "code",
   "execution_count": 109,
   "metadata": {},
   "outputs": [
    {
     "output_type": "execute_result",
     "data": {
      "text/plain": [
       "array(['퇴원', '사망', ' '], dtype=object)"
      ]
     },
     "metadata": {},
     "execution_count": 109
    }
   ],
   "source": [
    "df['상태'].unique()"
   ]
  },
  {
   "cell_type": "code",
   "execution_count": 108,
   "metadata": {},
   "outputs": [
    {
     "output_type": "execute_result",
     "data": {
      "text/plain": [
       "   연번         확진일   지역     여행력    접촉력  상태          이동경로\n",
       "0   1  2020-01-24  강서구  중국 우한시  해외 접촉  퇴원  이동경로 공개기간 경과\n",
       "1   2  2020-01-30  중랑구  중국 우한시  해외 접촉  퇴원  이동경로 공개기간 경과\n",
       "2   3  2020-01-30  종로구          #3 접촉  퇴원  이동경로 공개기간 경과\n",
       "3   4  2020-01-30  마포구  중국 우한시  해외 접촉  퇴원  이동경로 공개기간 경과\n",
       "4   5  2020-01-31  성북구          #5 접촉  퇴원  이동경로 공개기간 경과"
      ],
      "text/html": "<div>\n<style scoped>\n    .dataframe tbody tr th:only-of-type {\n        vertical-align: middle;\n    }\n\n    .dataframe tbody tr th {\n        vertical-align: top;\n    }\n\n    .dataframe thead th {\n        text-align: right;\n    }\n</style>\n<table border=\"1\" class=\"dataframe\">\n  <thead>\n    <tr style=\"text-align: right;\">\n      <th></th>\n      <th>연번</th>\n      <th>확진일</th>\n      <th>지역</th>\n      <th>여행력</th>\n      <th>접촉력</th>\n      <th>상태</th>\n      <th>이동경로</th>\n    </tr>\n  </thead>\n  <tbody>\n    <tr>\n      <th>0</th>\n      <td>1</td>\n      <td>2020-01-24</td>\n      <td>강서구</td>\n      <td>중국 우한시</td>\n      <td>해외 접촉</td>\n      <td>퇴원</td>\n      <td>이동경로 공개기간 경과</td>\n    </tr>\n    <tr>\n      <th>1</th>\n      <td>2</td>\n      <td>2020-01-30</td>\n      <td>중랑구</td>\n      <td>중국 우한시</td>\n      <td>해외 접촉</td>\n      <td>퇴원</td>\n      <td>이동경로 공개기간 경과</td>\n    </tr>\n    <tr>\n      <th>2</th>\n      <td>3</td>\n      <td>2020-01-30</td>\n      <td>종로구</td>\n      <td></td>\n      <td>#3 접촉</td>\n      <td>퇴원</td>\n      <td>이동경로 공개기간 경과</td>\n    </tr>\n    <tr>\n      <th>3</th>\n      <td>4</td>\n      <td>2020-01-30</td>\n      <td>마포구</td>\n      <td>중국 우한시</td>\n      <td>해외 접촉</td>\n      <td>퇴원</td>\n      <td>이동경로 공개기간 경과</td>\n    </tr>\n    <tr>\n      <th>4</th>\n      <td>5</td>\n      <td>2020-01-31</td>\n      <td>성북구</td>\n      <td></td>\n      <td>#5 접촉</td>\n      <td>퇴원</td>\n      <td>이동경로 공개기간 경과</td>\n    </tr>\n  </tbody>\n</table>\n</div>"
     },
     "metadata": {},
     "execution_count": 108
    }
   ],
   "source": [
    "df.head()"
   ]
  },
  {
   "cell_type": "code",
   "execution_count": 104,
   "metadata": {},
   "outputs": [],
   "source": [
    "df.to_csv('covid-seoul3.csv')"
   ]
  },
  {
   "source": [
    "## Database에 저장"
   ],
   "cell_type": "markdown",
   "metadata": {}
  },
  {
   "cell_type": "code",
   "execution_count": 106,
   "metadata": {},
   "outputs": [],
   "source": [
    "import sqlite3\n",
    "conn = sqlite3.connect('../db/covid.db')\n",
    "cur = conn.cursor()"
   ]
  },
  {
   "cell_type": "code",
   "execution_count": 113,
   "metadata": {},
   "outputs": [
    {
     "output_type": "execute_result",
     "data": {
      "text/plain": [
       "[1, '2020-01-24', '강서구', '중국 우한시', '해외 접촉', '퇴원', '이동경로 공개기간 경과']"
      ]
     },
     "metadata": {},
     "execution_count": 113
    }
   ],
   "source": [
    "params = [int(df.iloc[0,0])]\n",
    "params.extend(df.iloc[0,1:])\n",
    "params"
   ]
  },
  {
   "cell_type": "code",
   "execution_count": 121,
   "metadata": {},
   "outputs": [],
   "source": [
    "sql_table = '''create table if not exists seoul (\n",
    "  sid integer not null primary key,\n",
    "  confDay text not null,\n",
    "  region text not null,\n",
    "  travelHist text,\n",
    "  contactHist text,\n",
    "  status text,\n",
    "  moving text);\n",
    "'''\n",
    "cur.execute(sql_table)\n",
    "conn.commit()"
   ]
  },
  {
   "cell_type": "code",
   "execution_count": 122,
   "metadata": {},
   "outputs": [
    {
     "output_type": "stream",
     "name": "stdout",
     "text": [
      "0 1 2 3 4 5 6 7 8 9 10 11 12 13 14 15 16 17 18 19 20 21 22 23 24 25 26 27 28 29 30 31 32 33 34 35 36 37 38 39 40 41 42 43 44 45 46 47 48 49 50 51 52 53 54 55 56 57 58 59 60 61 62 63 64 65 66 67 68 69 70 71 72 73 74 75 76 77 78 79 80 81 82 83 84 85 86 87 88 89 90 91 92 93 94 95 96 97 98 99 100 101 102 103 104 105 106 107 108 109 110 111 112 113 114 115 116 117 118 119 120 121 122 123 124 125 126 127 128 129 130 131 132 133 134 135 136 137 138 139 140 141 142 143 144 145 146 147 148 149 150 151 152 153 154 155 156 157 "
     ]
    }
   ],
   "source": [
    "sql_insert = 'insert into seoul values(?,?,?,?,?,?,?);'\n",
    "for i in df.index:\n",
    "    params = [int(df.iloc[i,0])]\n",
    "    params.extend(df.iloc[i,1:])\n",
    "    cur.execute(sql_insert, params)\n",
    "    if i % 100 == 0:\n",
    "        print(i//100, end=' ')\n",
    "        conn.commit()\n",
    "conn.commit()"
   ]
  },
  {
   "cell_type": "code",
   "execution_count": 123,
   "metadata": {},
   "outputs": [],
   "source": [
    "cur.close()\n",
    "conn.close()"
   ]
  },
  {
   "cell_type": "code",
   "execution_count": null,
   "metadata": {},
   "outputs": [],
   "source": []
  }
 ]
}